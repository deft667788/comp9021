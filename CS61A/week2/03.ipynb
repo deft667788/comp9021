{
 "cells": [
  {
   "cell_type": "code",
   "execution_count": 2,
   "metadata": {},
   "outputs": [
    {
     "name": "stdout",
     "output_type": "stream",
     "text": [
      "-2\n",
      "1 2 3\n",
      "-2\n",
      "-2\n",
      "None\n"
     ]
    }
   ],
   "source": [
    "# Print\n",
    "\n",
    "print(-2)\n",
    "print(1, 2, 3)\n",
    "x = -2\n",
    "\n",
    "print(x)\n",
    "x = print(-2)\n",
    "\n",
    "print(x)"
   ]
  },
  {
   "cell_type": "code",
   "execution_count": 3,
   "metadata": {},
   "outputs": [
    {
     "name": "stdout",
     "output_type": "stream",
     "text": [
      "None\n",
      "1 2 3\n",
      "None None\n",
      "1\n",
      "2\n",
      "None None\n"
     ]
    }
   ],
   "source": [
    "print(None)\n",
    "print(1, 2, 3)\n",
    "print(None, None)\n",
    "print(print(1), print(2))"
   ]
  },
  {
   "cell_type": "code",
   "execution_count": 7,
   "metadata": {},
   "outputs": [
    {
     "name": "stdout",
     "output_type": "stream",
     "text": [
      "61.8\n",
      "61\n",
      "8\n"
     ]
    }
   ],
   "source": [
    "# Division\n",
    "print(618 / 10)\n",
    "print(618 // 10)\n",
    "print(618 % 10)"
   ]
  },
  {
   "cell_type": "code",
   "execution_count": 8,
   "metadata": {},
   "outputs": [
    {
     "name": "stdout",
     "output_type": "stream",
     "text": [
      "61\n",
      "61.8\n",
      "8\n"
     ]
    }
   ],
   "source": [
    "from operator import truediv, floordiv, mod\n",
    "print(floordiv(618, 10))\n",
    "print(truediv(618, 10))\n",
    "print(mod(618, 10))"
   ]
  },
  {
   "cell_type": "code",
   "execution_count": 9,
   "metadata": {},
   "outputs": [
    {
     "name": "stdout",
     "output_type": "stream",
     "text": [
      "1.6666666666666667\n",
      "1\n",
      "2\n"
     ]
    }
   ],
   "source": [
    "# Approximation\n",
    "print(5 / 3)\n",
    "print(5 // 3)\n",
    "print(5 % 3)"
   ]
  },
  {
   "cell_type": "code",
   "execution_count": 12,
   "metadata": {},
   "outputs": [
    {
     "name": "stdout",
     "output_type": "stream",
     "text": [
      "61\n",
      "8\n"
     ]
    }
   ],
   "source": [
    "# Multiple return values\n",
    "def divide_exact(n, d):\n",
    "  return n // d, n % d\n",
    "\n",
    "quotient, remainder = divide_exact(618, 10)\n",
    "print(quotient)\n",
    "print(remainder)"
   ]
  },
  {
   "cell_type": "code",
   "execution_count": 13,
   "metadata": {},
   "outputs": [],
   "source": [
    "# Dostrings, doctests, & default arguments\n",
    "def divide_exact(n, d=10):\n",
    "  \"\"\" Return the quotient and remainder of dividing N by D\n",
    "\n",
    "  >>> quotient, remainder = divide_exact(618, 10)\n",
    "  >>> quotient\n",
    "  61\n",
    "  >>> remainder\n",
    "  8\n",
    "  \"\"\"\n",
    "  return floordiv(n, d), mod(n, d)"
   ]
  },
  {
   "cell_type": "code",
   "execution_count": 16,
   "metadata": {},
   "outputs": [],
   "source": [
    "# Conditional expression\n",
    "def absolute_value(x):\n",
    "  \"\"\"Return the absolute value of X.\n",
    "  >>> absolute(-3)\n",
    "  3\n",
    "  >>> absolute(0)\n",
    "  0\n",
    "  >>> absolute(3)\n",
    "  3\n",
    "  \"\"\"\n",
    "  if x < 0:\n",
    "    return -x\n",
    "  elif x == 0:\n",
    "    return 0\n",
    "  else:\n",
    "    return x"
   ]
  },
  {
   "cell_type": "code",
   "execution_count": 18,
   "metadata": {},
   "outputs": [
    {
     "name": "stdout",
     "output_type": "stream",
     "text": [
      "i: 3 total: 6\n"
     ]
    }
   ],
   "source": [
    "# Summation via while\n",
    "i, total = 0, 0\n",
    "while i < 3:\n",
    "  i += 1\n",
    "  total += i\n",
    "print('i:', i, 'total:', total)"
   ]
  },
  {
   "cell_type": "code",
   "execution_count": 19,
   "metadata": {},
   "outputs": [],
   "source": [
    "# Prime factorization\n",
    "def prime_factors(n):\n",
    "  \"\"\"Print the prime factors of positive integer n\n",
    "  in non-decreasing order.\n",
    "\n",
    "  >>> prime_factors(8)\n",
    "  2\n",
    "  2\n",
    "  2\n",
    "  >>> prime_factors(9)\n",
    "  3\n",
    "  3\n",
    "  >>> prime_factors(10)\n",
    "  2\n",
    "  5\n",
    "  >>> prime_factors(11)\n",
    "  11\n",
    "  >>> prime_factors(12)\n",
    "  2\n",
    "  2\n",
    "  3\n",
    "  >>> prime_factors(858)\n",
    "  2\n",
    "  3\n",
    "  11\n",
    "  13\n",
    "  \"\"\"\n",
    "  while n > 1:\n",
    "    k = smallest_factor(n)\n",
    "    print(k)\n",
    "    n //= k\n",
    "\n",
    "def smallest_factor(n):\n",
    "  \"\"\"Return the smallest factor of n greater than 1.\"\"\"\n",
    "  k = 2\n",
    "  while n % k != 0:\n",
    "    k += 1\n",
    "  return k"
   ]
  },
  {
   "cell_type": "code",
   "execution_count": 20,
   "metadata": {},
   "outputs": [
    {
     "name": "stdout",
     "output_type": "stream",
     "text": [
      "2\n",
      "7\n",
      "7\n",
      "7\n",
      "13\n"
     ]
    }
   ],
   "source": [
    "prime_factors(8918)"
   ]
  }
 ],
 "metadata": {
  "kernelspec": {
   "display_name": "opencv-env",
   "language": "python",
   "name": "python3"
  },
  "language_info": {
   "codemirror_mode": {
    "name": "ipython",
    "version": 3
   },
   "file_extension": ".py",
   "mimetype": "text/x-python",
   "name": "python",
   "nbconvert_exporter": "python",
   "pygments_lexer": "ipython3",
   "version": "3.11.0"
  }
 },
 "nbformat": 4,
 "nbformat_minor": 2
}
