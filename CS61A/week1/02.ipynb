{
 "cells": [
  {
   "cell_type": "code",
   "execution_count": 5,
   "metadata": {},
   "outputs": [
    {
     "name": "stdout",
     "output_type": "stream",
     "text": [
      "3\n",
      "-4\n",
      "10000\n",
      "1267650600228229401496703205376\n"
     ]
    }
   ],
   "source": [
    "# Call expressions\n",
    "print(max(2, 3))\n",
    "print(min(1, -2, 3, -4, 5))\n",
    "print(pow(100, 2))\n",
    "print(pow(2, 100))"
   ]
  },
  {
   "cell_type": "code",
   "execution_count": 7,
   "metadata": {},
   "outputs": [
    {
     "name": "stdout",
     "output_type": "stream",
     "text": [
      "1.0002380197528042\n",
      "1.0\n"
     ]
    }
   ],
   "source": [
    "# Imports\n",
    "from math import pi\n",
    "print(pi * 71 / 223)\n",
    "from math import sin\n",
    "print(sin(pi/2))"
   ]
  },
  {
   "cell_type": "code",
   "execution_count": 8,
   "metadata": {},
   "outputs": [
    {
     "name": "stdout",
     "output_type": "stream",
     "text": [
      "20\n",
      "314.1592653589793\n",
      "62.83185307179586\n"
     ]
    }
   ],
   "source": [
    "# Assignment\n",
    "radius = 10\n",
    "print(2 * radius)\n",
    "area, circ = pi * radius * radius, 2 * pi * radius\n",
    "print(area)\n",
    "print(circ)"
   ]
  },
  {
   "cell_type": "code",
   "execution_count": 9,
   "metadata": {},
   "outputs": [
    {
     "name": "stdout",
     "output_type": "stream",
     "text": [
      "4\n",
      "4\n",
      "7\n"
     ]
    }
   ],
   "source": [
    "# Function values\n",
    "max(3, 4)\n",
    "f = max\n",
    "print(f(3, 4))\n",
    "max = 7\n",
    "print(f(3, 4))\n",
    "print(f(3, max))\n",
    "f = 2"
   ]
  },
  {
   "cell_type": "code",
   "execution_count": 13,
   "metadata": {},
   "outputs": [
    {
     "name": "stdout",
     "output_type": "stream",
     "text": [
      "441\n",
      "49\n",
      "81\n",
      "25\n",
      "169\n"
     ]
    }
   ],
   "source": [
    "# User-defined functions\n",
    "from operator import add, mul\n",
    "\n",
    "def square(x):\n",
    "  return mul(x, x)\n",
    "\n",
    "print(square(21))\n",
    "print(square(add(2, 5)))\n",
    "print(square(square(3)))\n",
    "\n",
    "def sum_squares(x, y):\n",
    "  return add(square(x), square(y))\n",
    "\n",
    "print(sum_squares(3, 4))\n",
    "print(sum_squares(5, 12))"
   ]
  },
  {
   "cell_type": "code",
   "execution_count": 14,
   "metadata": {},
   "outputs": [
    {
     "name": "stdout",
     "output_type": "stream",
     "text": [
      "314.1592653589793\n",
      "1256.6370614359173\n",
      "314.1592653589793\n"
     ]
    }
   ],
   "source": [
    "# area function\n",
    "def area():\n",
    "  return pi * radius * radius\n",
    "\n",
    "print(area())\n",
    "radius = 20\n",
    "print(area())\n",
    "radius = 10\n",
    "print(area())"
   ]
  },
  {
   "cell_type": "code",
   "execution_count": 15,
   "metadata": {},
   "outputs": [
    {
     "name": "stdout",
     "output_type": "stream",
     "text": [
      "16\n"
     ]
    }
   ],
   "source": [
    "# Name conflicts\n",
    "\n",
    "def square(square):\n",
    "  return mul(square, square)\n",
    "\n",
    "print(square(4))"
   ]
  }
 ],
 "metadata": {
  "kernelspec": {
   "display_name": "opencv-env",
   "language": "python",
   "name": "python3"
  },
  "language_info": {
   "codemirror_mode": {
    "name": "ipython",
    "version": 3
   },
   "file_extension": ".py",
   "mimetype": "text/x-python",
   "name": "python",
   "nbconvert_exporter": "python",
   "pygments_lexer": "ipython3",
   "version": "3.11.0"
  }
 },
 "nbformat": 4,
 "nbformat_minor": 2
}
