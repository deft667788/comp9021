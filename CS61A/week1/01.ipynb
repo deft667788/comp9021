{
 "cells": [
  {
   "cell_type": "code",
   "execution_count": 1,
   "metadata": {},
   "outputs": [
    {
     "name": "stdout",
     "output_type": "stream",
     "text": [
      "2020\n",
      "2020\n",
      "2020\n"
     ]
    }
   ],
   "source": [
    "# Numeric expressions\n",
    "print(2020)\n",
    "print(2000 + 20)\n",
    "print(-1 + 2 + 3 + 4 * ((5 // 6) + 7 * 8 * 9))"
   ]
  },
  {
   "cell_type": "code",
   "execution_count": 2,
   "metadata": {},
   "outputs": [
    {
     "name": "stdout",
     "output_type": "stream",
     "text": [
      "2\n",
      "2020\n"
     ]
    }
   ],
   "source": [
    "# Functions\n",
    "print(abs(-2))\n",
    "print(abs(2301 - 4321))"
   ]
  },
  {
   "cell_type": "code",
   "execution_count": 3,
   "metadata": {},
   "outputs": [
    {
     "name": "stdout",
     "output_type": "stream",
     "text": [
      "Go Bears\n",
      "Gobears\n"
     ]
    }
   ],
   "source": [
    "# Values\n",
    "print(\"Go Bears\")\n",
    "print(\"Gob\" + \"ears\")"
   ]
  },
  {
   "cell_type": "code",
   "execution_count": 9,
   "metadata": {},
   "outputs": [
    {
     "name": "stdout",
     "output_type": "stream",
     "text": [
      "35\n",
      "['And,', 'as', 'imagination', 'bodies', 'forth', 'The', 'forms', 'of', 'things', 'to', 'unknown,', 'and', 'the', \"poet's\", 'pen', 'Turns', 'them', 'to', 'shapes,', 'and', 'gives', 'to', 'airy', 'nothing', 'A']\n",
      "1\n",
      "0\n",
      "0\n",
      "0\n",
      "0\n"
     ]
    }
   ],
   "source": [
    "shakes = open('shakespeare.txt')\n",
    "text = shakes.read().split()\n",
    "# print(text)\n",
    "print(len(text))\n",
    "print(text[:25])\n",
    "print(text.count('the'))\n",
    "print(text.count('thou'))\n",
    "print(text.count('you'))\n",
    "print(text.count('forsooth'))\n",
    "print(text.count(','))"
   ]
  },
  {
   "cell_type": "code",
   "execution_count": 17,
   "metadata": {},
   "outputs": [
    {
     "name": "stdout",
     "output_type": "stream",
     "text": [
      "30\n",
      "{'as', 'forms', 'the', 'airy', 'local', 'them', \"Midsummer-Night's\", 'pen', 'Turns', 'nothing', 'of', 'name.', 'The', \"poet's\", 'to', 'gives', 'things', 'shapes,', 'forth', 'imagination', 'habitation', 'A', 'a', 'Dream', 'Shakespeare,', 'bodies', 'unknown,', '—William', 'and', 'And,'}\n"
     ]
    }
   ],
   "source": [
    "# Sets\n",
    "words = set(text)\n",
    "print(len(words))\n",
    "print(words)"
   ]
  },
  {
   "cell_type": "code",
   "execution_count": 18,
   "metadata": {},
   "outputs": [
    {
     "name": "stdout",
     "output_type": "stream",
     "text": [
      "d\n",
      "['a', 'f', 't', 'a', 'l', 't', 'M', 'p', 'T', 'n', 'o', 'n', 'T', 'p', 't', 'g', 't', 's', 'f', 'i', 'h', 'A', 'a', 'D', 'S', 'b', 'u', '—', 'a', 'A']\n"
     ]
    }
   ],
   "source": [
    "# Combinations\n",
    "'draw'\n",
    "print('draw'[0])\n",
    "print([w[0] for w in words])"
   ]
  },
  {
   "cell_type": "code",
   "execution_count": 24,
   "metadata": {},
   "outputs": [
    {
     "name": "stdout",
     "output_type": "stream",
     "text": [
      "ward\n",
      "[]\n",
      "set()\n",
      "set()\n"
     ]
    }
   ],
   "source": [
    "# Data\n",
    "print('draw'[::-1])\n",
    "print([w for w in words if w == w[::-1] and len(w)>4])\n",
    "print({w for w in words if w[::-1] in words and len(w)==4})\n",
    "print({w for w in words if w[::-1] in words and len(w)>6})"
   ]
  }
 ],
 "metadata": {
  "kernelspec": {
   "display_name": "opencv-env",
   "language": "python",
   "name": "python3"
  },
  "language_info": {
   "codemirror_mode": {
    "name": "ipython",
    "version": 3
   },
   "file_extension": ".py",
   "mimetype": "text/x-python",
   "name": "python",
   "nbconvert_exporter": "python",
   "pygments_lexer": "ipython3",
   "version": "3.11.0"
  }
 },
 "nbformat": 4,
 "nbformat_minor": 2
}
